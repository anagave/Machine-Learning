{
  "nbformat": 4,
  "nbformat_minor": 0,
  "metadata": {
    "colab": {
      "name": "ML-A1_Q1.ipynb",
      "provenance": [],
      "collapsed_sections": []
    },
    "kernelspec": {
      "name": "python3",
      "display_name": "Python 3"
    },
    "language_info": {
      "name": "python"
    }
  },
  "cells": [
    {
      "cell_type": "code",
      "metadata": {
        "id": "4xtR8mjaeN_c"
      },
      "source": [
        "#Question 1\n",
        "#Name: Nagaveti Bhavani Santhoshi Achyutha\n",
        "#CWID: A20314248"
      ],
      "execution_count": 1,
      "outputs": []
    },
    {
      "cell_type": "markdown",
      "metadata": {
        "id": "Kj8K94PA9RQp"
      },
      "source": [
        "#**Question 1**\n",
        "\n",
        "---\n",
        "\n",
        "\n",
        "#**Name:** Nagaveti Bhavani Santhoshi Achyutha\n",
        "#**CWID:** A20314248"
      ]
    },
    {
      "cell_type": "code",
      "metadata": {
        "id": "R8YxYrri73FP"
      },
      "source": [
        "import numpy as np\n",
        "from pandas import DataFrame\n",
        "from random import seed\n",
        "from random import randrange\n",
        "from csv import reader\n",
        "from math import sqrt\n",
        "import matplotlib.pyplot as plt  # To visualize"
      ],
      "execution_count": null,
      "outputs": []
    },
    {
      "cell_type": "code",
      "metadata": {
        "id": "ntXIkPOHrZuT"
      },
      "source": [
        "# Calculate root mean squared error\n",
        "def rmse_metric(actual, predicted):\n",
        "\tsum_error = 0.0\n",
        "\tfor i in range(len(actual)):\n",
        "\t\tprediction_error = predicted[i] - actual[i]\n",
        "\t\tsum_error += (prediction_error ** 2)\n",
        "\tmean_error = sum_error / float(len(actual))\n",
        "\treturn sqrt(mean_error)"
      ],
      "execution_count": 2,
      "outputs": []
    },
    {
      "cell_type": "code",
      "metadata": {
        "id": "wUQsfMQ8rs7u"
      },
      "source": [
        "# Calculate the mean value of a list of numbers\n",
        "def mean(values):\n",
        "\treturn sum(values) / float(len(values))"
      ],
      "execution_count": 3,
      "outputs": []
    },
    {
      "cell_type": "code",
      "metadata": {
        "id": "3Ki27lr2rvP-"
      },
      "source": [
        "# Calculate covariance between x and y\n",
        "def covariance(x, mean_x, y, mean_y):\n",
        "\tcovar = 0.0\n",
        "\tfor i in range(len(x)):\n",
        "\t\tcovar += (x[i] - mean_x) * (y[i] - mean_y)\n",
        "\treturn covar"
      ],
      "execution_count": 4,
      "outputs": []
    },
    {
      "cell_type": "code",
      "metadata": {
        "id": "wBcQn2xqrxqX"
      },
      "source": [
        "# Calculate the variance of a list of numbers\n",
        "def variance(values, mean):\n",
        "\treturn sum([(x-mean)**2 for x in values])"
      ],
      "execution_count": 5,
      "outputs": []
    },
    {
      "cell_type": "code",
      "metadata": {
        "id": "4LpSF4kXr1af"
      },
      "source": [
        "# Calculate coefficients\n",
        "def coefficients(x_train,y_train):\n",
        "\tx = [row[0] for row in x_train]\n",
        "\ty = [row for row in y_train]\n",
        "\tx_mean, y_mean = mean(x), mean(y)\n",
        "\tb1 = covariance(x, x_mean, y, y_mean) / variance(x, x_mean)\n",
        "\tb0 = y_mean - b1 * x_mean\n",
        "\treturn [b0, b1]"
      ],
      "execution_count": 6,
      "outputs": []
    },
    {
      "cell_type": "code",
      "metadata": {
        "id": "ILMdOpMlr2T4"
      },
      "source": [
        "#  linear regression algorithm\n",
        "def linear_regression(x_test,x_train, y_train):\n",
        "\tpredictions = list()\n",
        "\tb0, b1 = coefficients(x_train,y_train)\n",
        "\tfor row in x_test:\n",
        "\t\tyhat = b0 + b1 * row[0]\n",
        "\t\tpredictions.append(yhat)\n",
        "\treturn predictions"
      ],
      "execution_count": 7,
      "outputs": []
    },
    {
      "cell_type": "code",
      "metadata": {
        "id": "urDbhl8WrruA"
      },
      "source": [
        "# Evaluate an algorithm using a train/test split\n",
        "def evaluate_algorithm():\n",
        "  predicted = linear_regression(x_test,x_train, y_train)\n",
        "  actual = [row[0] for row in y_test]\n",
        "  rmse = rmse_metric(actual, predicted)\n",
        "  xt = [row[0] for row in x_test]\n",
        "  plt.scatter(xt, actual)\n",
        "  plt.plot(xt, predicted, color='red')\n",
        "  plt.show()\n",
        "  return rmse\n"
      ],
      "execution_count": 8,
      "outputs": []
    },
    {
      "cell_type": "code",
      "metadata": {
        "id": "pP29KHEWe9FY"
      },
      "source": [
        "x_test= np.load('x_test.npy')\n",
        "x_train= np.load('x_train.npy')\n",
        "y_test= np.load('y_test.npy')\n",
        "y_train= np.load('y_train.npy')"
      ],
      "execution_count": 10,
      "outputs": []
    },
    {
      "cell_type": "code",
      "metadata": {
        "colab": {
          "base_uri": "https://localhost:8080/",
          "height": 265
        },
        "id": "7o-QwLVw4xzu",
        "outputId": "b85b5992-6fe7-4657-d13f-8d4426820280"
      },
      "source": [
        "#Plot train data realtionship\n",
        "plt.scatter(x_train, y_train)\n",
        "plt.show()"
      ],
      "execution_count": 11,
      "outputs": [
        {
          "output_type": "display_data",
          "data": {
            "image/png": "[encoded data removed]",
            "text/plain": [
              "<Figure size 432x288 with 1 Axes>"
            ]
          },
          "metadata": {
            "needs_background": "light"
          }
        }
      ]
    },
    {
      "cell_type": "code",
      "metadata": {
        "colab": {
          "base_uri": "https://localhost:8080/",
          "height": 265
        },
        "id": "L4CGxEr75BCI",
        "outputId": "6c7e0077-23b9-421c-dfc4-25be205a625d"
      },
      "source": [
        "#Plot test data realtionship\n",
        "plt.scatter(x_test, y_test)\n",
        "plt.show()"
      ],
      "execution_count": 12,
      "outputs": [
        {
          "output_type": "display_data",
          "data": {
            "image/png": "[encoded data removed]",
            "text/plain": [
              "<Figure size 432x288 with 1 Axes>"
            ]
          },
          "metadata": {
            "needs_background": "light"
          }
        }
      ]
    },
    {
      "cell_type": "code",
      "metadata": {
        "colab": {
          "base_uri": "https://localhost:8080/",
          "height": 282
        },
        "id": "NDoxJ34RqMjd",
        "outputId": "8d850bcf-3a02-4daf-dfb6-a9600ba2fccc"
      },
      "source": [
        "seed(1)\n",
        "rmse = evaluate_algorithm()\n",
        "print('RMSE: %.3f' % (rmse))\n",
        "\n",
        "#in graph red line is predicted and show function is linear\n",
        "#Relationship is linear"
      ],
      "execution_count": 13,
      "outputs": [
        {
          "output_type": "display_data",
          "data": {
            "image/png": "[encoded data removed]",
            "text/plain": [
              "<Figure size 432x288 with 1 Axes>"
            ]
          },
          "metadata": {
            "needs_background": "light"
          }
        },
        {
          "output_type": "stream",
          "name": "stdout",
          "text": [
            "RMSE: 1.679\n"
          ]
        }
      ]
    },
    {
      "cell_type": "code",
      "metadata": {
        "id": "j0cXPJra8JEB"
      },
      "source": [
        ""
      ],
      "execution_count": null,
      "outputs": []
    },
    {
      "cell_type": "markdown",
      "metadata": {
        "id": "5ZRyEKlCrJY5"
      },
      "source": [
        "# Non linearity (polynomial basis )"
      ]
    },
    {
      "cell_type": "code",
      "metadata": {
        "id": "PFIYXxGtsKi_"
      },
      "source": [
        "X = DataFrame(x_train,columns=['X'])\n",
        "X_test = DataFrame(x_test,columns=['X'])"
      ],
      "execution_count": 14,
      "outputs": []
    },
    {
      "cell_type": "code",
      "metadata": {
        "id": "1D77HlGcrTy7"
      },
      "source": [
        "X['X1'] = x_train**2\n",
        "X['X2'] = x_train**3"
      ],
      "execution_count": 15,
      "outputs": []
    },
    {
      "cell_type": "code",
      "metadata": {
        "id": "063BA09HuF_f"
      },
      "source": [
        "X_test['X1'] = x_train**2\n",
        "X_test['X2'] = x_train**3"
      ],
      "execution_count": 16,
      "outputs": []
    },
    {
      "cell_type": "code",
      "metadata": {
        "id": "qtuFH2SrrvLe"
      },
      "source": [
        "m = len(X)\n",
        "X = X/X.max()"
      ],
      "execution_count": 17,
      "outputs": []
    },
    {
      "cell_type": "code",
      "metadata": {
        "id": "OFh1-CX4uMPA"
      },
      "source": [
        "X_test = X_test/X_test.max()"
      ],
      "execution_count": 18,
      "outputs": []
    },
    {
      "cell_type": "code",
      "metadata": {
        "id": "LAdFONWZtCQR"
      },
      "source": [
        "def hypothesis(X, theta):\n",
        "    y1 = theta*X\n",
        "    return np.sum(y1, axis=1)"
      ],
      "execution_count": 19,
      "outputs": []
    },
    {
      "cell_type": "code",
      "metadata": {
        "id": "whKRxUGitPfj"
      },
      "source": [
        "def cost(X, y, theta):\n",
        "    y1 = hypothesis(X, theta)\n",
        "    return sum(np.sqrt((y1-y)**2))/(2*m)"
      ],
      "execution_count": 20,
      "outputs": []
    },
    {
      "cell_type": "code",
      "metadata": {
        "id": "pGhPBzRWtS8M"
      },
      "source": [
        "\n",
        "def gradientDescent(X, y, theta, alpha, epoch):\n",
        "    J=[]\n",
        "    k=0\n",
        "    while k < epoch:\n",
        "        y1 = hypothesis(X, theta)\n",
        "        for c in range(0, len(X.columns)):\n",
        "            theta[c] = theta[c] - alpha*sum((y1-y)* X.iloc[:, c])/m\n",
        "        j = cost(X, y, theta)\n",
        "        J.append(j)\n",
        "        k += 1\n",
        "    return J, theta"
      ],
      "execution_count": 21,
      "outputs": []
    },
    {
      "cell_type": "code",
      "metadata": {
        "id": "o82eFLWjtZH-"
      },
      "source": [
        "theta = np.array([0.0]*len(X.columns))\n",
        "J, theta = gradientDescent(X, y_train, theta, 0.05, 700)"
      ],
      "execution_count": 22,
      "outputs": []
    },
    {
      "cell_type": "code",
      "metadata": {
        "id": "wLM2Fbq4teL5"
      },
      "source": [
        "y_hat = hypothesis(X_test, theta)"
      ],
      "execution_count": 23,
      "outputs": []
    },
    {
      "cell_type": "code",
      "metadata": {
        "colab": {
          "base_uri": "https://localhost:8080/",
          "height": 265
        },
        "id": "zvpEsqfNtrEx",
        "outputId": "2a2f883d-3212-4b61-a9dc-2a603cacebef"
      },
      "source": [
        "\n",
        "plt.figure()\n",
        "plt.scatter(x=X['X'],y= y_test)           \n",
        "plt.scatter(x=X['X'], y=y_hat)\n",
        "plt.show()"
      ],
      "execution_count": 24,
      "outputs": [
        {
          "output_type": "display_data",
          "data": {
            "image/png": "[encoded data removed]",
            "text/plain": [
              "<Figure size 432x288 with 1 Axes>"
            ]
          },
          "metadata": {
            "needs_background": "light"
          }
        }
      ]
    },
    {
      "cell_type": "code",
      "metadata": {
        "id": "ycmJ-a3lv33T"
      },
      "source": [
        ""
      ],
      "execution_count": null,
      "outputs": []
    }
  ]
}