{
  "nbformat": 4,
  "nbformat_minor": 0,
  "metadata": {
    "colab": {
      "name": "ML-A1_Q2.ipynb",
      "provenance": [],
      "collapsed_sections": []
    },
    "kernelspec": {
      "display_name": "Python 3",
      "name": "python3"
    },
    "language_info": {
      "name": "python"
    }
  },
  "cells": [
    {
      "cell_type": "code",
      "metadata": {
        "id": "4jqC0bkhB6tl"
      },
      "source": [
        "#Question 2\n",
        "#Name: Nagaveti Bhavani Santhoshi Achyutha\n",
        "#CWID: A20314248"
      ],
      "execution_count": 3,
      "outputs": []
    },
    {
      "cell_type": "markdown",
      "metadata": {
        "id": "H6dUL30k8PCP"
      },
      "source": [
        "#**Question 2**\n",
        "\n",
        "---\n",
        "\n",
        "\n",
        "#**Name:** Nagaveti Bhavani Santhoshi Achyutha\n",
        "#**CWID:** A20314248\n"
      ]
    },
    {
      "cell_type": "code",
      "metadata": {
        "id": "xCZGcJAU7zJx"
      },
      "source": [
        "import numpy as np\n",
        "import pandas as pd\n",
        "from sklearn.model_selection import train_test_split\n",
        "import matplotlib.pyplot as plt"
      ],
      "execution_count": 21,
      "outputs": []
    },
    {
      "cell_type": "code",
      "metadata": {
        "id": "diKoC1cWC3fo"
      },
      "source": [
        "df = pd.read_csv('Hogsmeade_Prices.csv')"
      ],
      "execution_count": 4,
      "outputs": []
    },
    {
      "cell_type": "code",
      "metadata": {
        "id": "A99wcMhiC-D7"
      },
      "source": [
        "data = df.iloc[-10:]\n",
        "data_t = df.iloc[-10:]"
      ],
      "execution_count": 5,
      "outputs": []
    },
    {
      "cell_type": "code",
      "metadata": {
        "id": "chH5CBJYxxm4"
      },
      "source": [
        "data_test = df.iloc[:5]"
      ],
      "execution_count": 6,
      "outputs": []
    },
    {
      "cell_type": "code",
      "metadata": {
        "id": "CDsU4O-pRjFA"
      },
      "source": [
        "x_test = data_test.values[:, :-1]  # get input values from first two columns\n",
        "y_test = data_test.values[:, -1]\n"
      ],
      "execution_count": 7,
      "outputs": []
    },
    {
      "cell_type": "code",
      "metadata": {
        "id": "DcIxiqydvrn9"
      },
      "source": [
        "max= [data[c].max() for c in data.columns] \n",
        "min= [data[c].min() for c in data.columns]"
      ],
      "execution_count": 8,
      "outputs": []
    },
    {
      "cell_type": "code",
      "metadata": {
        "colab": {
          "base_uri": "https://localhost:8080/"
        },
        "id": "Qr3K-0e9vwfr",
        "outputId": "9b967456-b7a6-4585-d51d-dd5fcfefcfb2"
      },
      "source": [
        "i=0\n",
        "for c in data.columns:\n",
        "    while(i<len(data.columns)): \n",
        "        data[c]=(data[c]-min[i])/(max[i]-min[i])\n",
        "        i=i+1\n",
        "        break"
      ],
      "execution_count": 9,
      "outputs": [
        {
          "output_type": "stream",
          "name": "stderr",
          "text": [
            "/usr/local/lib/python3.7/dist-packages/ipykernel_launcher.py:4: SettingWithCopyWarning: \n",
            "A value is trying to be set on a copy of a slice from a DataFrame.\n",
            "Try using .loc[row_indexer,col_indexer] = value instead\n",
            "\n",
            "See the caveats in the documentation: https://pandas.pydata.org/pandas-docs/stable/user_guide/indexing.html#returning-a-view-versus-a-copy\n",
            "  after removing the cwd from sys.path.\n"
          ]
        }
      ]
    },
    {
      "cell_type": "code",
      "metadata": {
        "id": "sk1lCOz_v0LJ"
      },
      "source": [
        "arr = data.values\n",
        "x_train=[]\n",
        "y=[]\n",
        "a=data.shape\n",
        "for i in range(a[0]):                      \n",
        "    x_train.append((arr[i][:-1]).tolist())\n",
        "    y.append(arr[i][-1])\n"
      ],
      "execution_count": 10,
      "outputs": []
    },
    {
      "cell_type": "code",
      "metadata": {
        "id": "KDSyT2dBv3EC"
      },
      "source": [
        "m=np.ones((len(y),1))\n",
        "b=np.matrix(x_train)\n",
        "b=np.concatenate((m,b),axis=1)     \n",
        "d=b.T\n",
        "e=np.linalg.inv(np.matmul(d,b))\n",
        "y1=np.matrix(y)\n",
        "y1=y1.T\n",
        "f=np.matmul(e,d)\n",
        "c1=np.matmul(f,y1)\n"
      ],
      "execution_count": 11,
      "outputs": []
    },
    {
      "cell_type": "code",
      "metadata": {
        "id": "vmb7BWm81RXi"
      },
      "source": [
        "predict = []\n",
        "for j in range(x_test.shape[0]):\n",
        "  x_test_tm=[[1],]\n",
        "  for z in range (x_test.shape[1]):\n",
        "    inp=[x_test[j][z]]\n",
        "    x_test_tm.append(inp)\n",
        "  for i in range(x_test.shape[1]):\n",
        "    x_test_tm[i+1][0]=(x_test_tm[i+1][0]-min[i])/(max[i]-min[i])\n",
        "  x_test_tm=np.matrix(x_test_tm)\n",
        "  predict.append((np.matmul(c1.T,x_test_tm))*(max[-2]-min[-2])+min[-2])"
      ],
      "execution_count": 12,
      "outputs": []
    },
    {
      "cell_type": "code",
      "metadata": {
        "id": "L62BQIv61jAK"
      },
      "source": [
        "pred_lis = []\n",
        "for ii in predict:\n",
        "  pred_lis.append(ii[0,0])\n",
        "pred_lis = np.array(pred_lis)"
      ],
      "execution_count": 13,
      "outputs": []
    },
    {
      "cell_type": "code",
      "metadata": {
        "id": "buhSYXut5TYS",
        "colab": {
          "base_uri": "https://localhost:8080/"
        },
        "outputId": "e0559781-1b26-4406-a617-f5cda85f9ddf"
      },
      "source": [
        "print('Error  = ' + str(np.square(np.subtract(y_test,pred_lis)).mean()))"
      ],
      "execution_count": 14,
      "outputs": [
        {
          "output_type": "stream",
          "name": "stdout",
          "text": [
            "Error  = 214.31463619845528\n"
          ]
        }
      ]
    },
    {
      "cell_type": "markdown",
      "metadata": {
        "id": "WGWwmVtTAGL6"
      },
      "source": [
        "# Important Factor"
      ]
    },
    {
      "cell_type": "code",
      "metadata": {
        "id": "dRpg92My-42M"
      },
      "source": [
        " ln = len(data_t.columns)-1"
      ],
      "execution_count": 15,
      "outputs": []
    },
    {
      "cell_type": "code",
      "metadata": {
        "id": "93DWe82Cz1Uu"
      },
      "source": [
        "corrcoef_list = {}\n",
        "for i in range(ln):\n",
        "  corrcoef_list[data_t.columns[i]] = np.corrcoef(data_t.iloc[:,i],data_t.iloc[:,-1])[0][1]"
      ],
      "execution_count": 16,
      "outputs": []
    },
    {
      "cell_type": "code",
      "metadata": {
        "colab": {
          "base_uri": "https://localhost:8080/"
        },
        "id": "yMXbIujd9NaK",
        "outputId": "1bc16df8-5529-42ab-a5a6-9d0ff27b3387"
      },
      "source": [
        "corrcoef_list"
      ],
      "execution_count": 17,
      "outputs": [
        {
          "output_type": "execute_result",
          "data": {
            "text/plain": [
              "{'# Bedrooms': 0.5525047834329703,\n",
              " '# Fire places': -0.0013320126315461765,\n",
              " '# Garages': 0.05763653887778981,\n",
              " '# Rooms': 0.5748683358200329,\n",
              " 'Age of home': 0.19362356023213118,\n",
              " 'Architecture type': -0.013051005112921475,\n",
              " 'Bathrooms': 0.22356507989426896,\n",
              " 'Construction type': 0.18293065470088624,\n",
              " 'House ID': 0.06361287458184954,\n",
              " 'Land Area': 0.3944702165372828,\n",
              " 'Living area': 0.3411763530644471,\n",
              " 'Local Price': 0.5217789771770374}"
            ]
          },
          "metadata": {},
          "execution_count": 17
        }
      ]
    },
    {
      "cell_type": "code",
      "metadata": {
        "id": "-L_4q8EGBqbP"
      },
      "source": [
        "def Get_High_Correlated_cofficient(d):\n",
        "     \"\"\" a) create a list of the dict's keys and values; \n",
        "         b) return the key with the max value\"\"\"  \n",
        "     v = np.array(list(corrcoef_list.values()))\n",
        "     k=list(d.keys())\n",
        "     return k[np.where(v == np.amax(v))[0][0]]"
      ],
      "execution_count": 18,
      "outputs": []
    },
    {
      "cell_type": "code",
      "metadata": {
        "id": "t6wtYjzeASQd"
      },
      "source": [
        "High_factor = Get_High_Correlated_cofficient(corrcoef_list)"
      ],
      "execution_count": 19,
      "outputs": []
    },
    {
      "cell_type": "code",
      "metadata": {
        "colab": {
          "base_uri": "https://localhost:8080/"
        },
        "id": "1BvmEtaF-mzk",
        "outputId": "abab4111-05b7-4123-bb32-b66c90a14267"
      },
      "source": [
        "print('Important Factor = ' + High_factor)\n"
      ],
      "execution_count": 20,
      "outputs": [
        {
          "output_type": "stream",
          "name": "stdout",
          "text": [
            "Important Factor = # Rooms\n"
          ]
        }
      ]
    },
    {
      "cell_type": "markdown",
      "metadata": {
        "id": "PrW-8adxFzei"
      },
      "source": [
        "Importance of feature is find by corelation cofficent"
      ]
    }
  ]
}