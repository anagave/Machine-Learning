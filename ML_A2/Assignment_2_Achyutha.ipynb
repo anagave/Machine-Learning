{
  "nbformat": 4,
  "nbformat_minor": 0,
  "metadata": {
    "colab": {
      "name": "Assignment_2_Achyutha.ipynb",
      "provenance": [],
      "collapsed_sections": []
    },
    "kernelspec": {
      "name": "python3",
      "display_name": "Python 3"
    },
    "language_info": {
      "name": "python"
    }
  },
  "cells": [
    {
      "cell_type": "code",
      "metadata": {
        "id": "Z_o6RPKQ5w3P"
      },
      "source": [
        "#Name : Nagaveti Bhavani Santhoshi Achyutha\n",
        "#CWID : A20314248\n",
        "#Course : CS5783 Machine Learning\n",
        "#Assignment Name : Assignment 2 -- Neural Networks"
      ],
      "execution_count": 23,
      "outputs": []
    },
    {
      "cell_type": "code",
      "metadata": {
        "id": "20z1W1mNyKJb"
      },
      "source": [
        "# Import Libraries\n",
        "import numpy as np\n",
        "import pandas as pd\n",
        "from sklearn.metrics import r2_score\n",
        "import matplotlib.pyplot as plt\n",
        "from sklearn.preprocessing import StandardScaler"
      ],
      "execution_count": 1,
      "outputs": []
    },
    {
      "cell_type": "code",
      "metadata": {
        "id": "-OmOWYK_xz40"
      },
      "source": [
        "X_test = np.loadtxt(\"X_test.csv\")\n",
        "X_train = np.loadtxt(\"X_train.csv\")\n",
        "y_train = np.loadtxt(\"Y_train.csv\")\n",
        "y_test = np.loadtxt(\"Y_test.csv\")"
      ],
      "execution_count": 2,
      "outputs": []
    },
    {
      "cell_type": "code",
      "metadata": {
        "id": "3nfVBox_P7Lp"
      },
      "source": [
        "\n",
        "sc = StandardScaler()\n",
        "X_train = sc.fit_transform(X_train)\n",
        "X_test = sc.transform(X_test)"
      ],
      "execution_count": 3,
      "outputs": []
    },
    {
      "cell_type": "code",
      "metadata": {
        "id": "-9YrUV3x4hS9"
      },
      "source": [
        "y_train = y_train.reshape(100,1)\n",
        "y_test = y_test.reshape(50,1)"
      ],
      "execution_count": 4,
      "outputs": []
    },
    {
      "cell_type": "code",
      "metadata": {
        "id": "ypYT0bI6yML5"
      },
      "source": [
        "# Initialize variables\n",
        "learning_rate = 0.1\n",
        "iterations = 15000\n",
        "N = y_train.size\n",
        "\n",
        "# number of input features\n",
        "input_size = 2\n",
        "\n",
        "# number of hidden layers neurons\n",
        "hidden_size = 2\n",
        "\n",
        "# number of neurons at the output layer\n",
        "output_size = 1  \n",
        "\n",
        "results = pd.DataFrame(columns=[\"mse\", \"accuracy\"])"
      ],
      "execution_count": 5,
      "outputs": []
    },
    {
      "cell_type": "code",
      "metadata": {
        "id": "YKLKCTCEycws"
      },
      "source": [
        "# Initialize weights\n",
        "np.random.seed(10)\n",
        "\n",
        "# initializing weight for the hidden layer\n",
        "W1 = np.random.normal(scale=0.5, size=(input_size, hidden_size))   \n",
        "\n",
        "# initializing weight for the output layer\n",
        "W2 = np.random.normal(scale=0.5, size=(hidden_size , output_size)) "
      ],
      "execution_count": 6,
      "outputs": []
    },
    {
      "cell_type": "code",
      "metadata": {
        "id": "w5SpDbS1ygaj"
      },
      "source": [
        "def sigmoid(x):\n",
        "    return 1 / (1 + np.exp(-x))\n",
        "\n",
        "def mean_squared_error(y_pred, y_true):\n",
        "    return ((y_pred - y_true)**2).sum() / (2*y_pred.size)\n",
        "    \n",
        "def accuracy(y_pred, y_true):\n",
        "    acc = (abs(y_true - y_pred).sum()) / (y_pred.size)\n",
        "    return acc/100\n",
        "\n",
        "def relu(X):\n",
        "   return np.maximum(0,X)\n",
        "\n",
        "def tanh(x):\n",
        "    t=(np.exp(x)-np.exp(-x))/(np.exp(x)+np.exp(-x))\n",
        "    return t"
      ],
      "execution_count": 7,
      "outputs": []
    },
    {
      "cell_type": "code",
      "metadata": {
        "id": "2-po3EiQyjTb"
      },
      "source": [
        "for itr in range(iterations):    \n",
        "    \n",
        "\n",
        "    # on hidden layer\n",
        "    Z1 = np.dot(X_train, W1)\n",
        "    A1 = sigmoid(Z1)\n",
        "\n",
        "    # on output layer\n",
        "    Z2 = np.dot(A1, W2)\n",
        "    A2 = relu(Z2)\n",
        "    \n",
        "    \n",
        "    # Calculating error\n",
        "    mse = mean_squared_error(A2, y_train)\n",
        "    acc = accuracy(A2, y_train)\n",
        "    results=results.append({\"mse\":mse, \"accuracy\":acc},ignore_index=True )\n",
        "    \n",
        "    # backpropagation\n",
        "    E1 = A2 - y_train\n",
        "    #E1 = 0.5 * ((y_train - A2)**2)\n",
        "    dW1 = E1 * A2 * (1 - A2)\n",
        "\n",
        "    E2 = np.dot(dW1, W2.T)\n",
        "    dW2 = E2 * A1 * (1 - A1)\n",
        "\n",
        "    \n",
        "    # weight updates\n",
        "    W2_update = np.dot(A1.T, dW1) / N\n",
        "    W1_update = np.dot(X_train.T, dW2) / N\n",
        "\n",
        "    W2 = W2 - learning_rate * W2_update\n",
        "    W1 = W1 - learning_rate * W1_update"
      ],
      "execution_count": 8,
      "outputs": []
    },
    {
      "cell_type": "code",
      "metadata": {
        "colab": {
          "base_uri": "https://localhost:8080/",
          "height": 298
        },
        "id": "6dBtPQTgzFZV",
        "outputId": "af5b1667-7bb8-42b0-cfe1-7e1081cc75b5"
      },
      "source": [
        "results.mse.plot(title=\"Mean Squared Error\")"
      ],
      "execution_count": 9,
      "outputs": [
        {
          "output_type": "execute_result",
          "data": {
            "text/plain": [
              "<matplotlib.axes._subplots.AxesSubplot at 0x7fa2f327e9d0>"
            ]
          },
          "metadata": {},
          "execution_count": 9
        },
        {
          "output_type": "display_data",
          "data": {
            "image/png": "[encoded data removed]",
            "text/plain": [
              "<Figure size 432x288 with 1 Axes>"
            ]
          },
          "metadata": {
            "needs_background": "light"
          }
        }
      ]
    },
    {
      "cell_type": "code",
      "metadata": {
        "colab": {
          "base_uri": "https://localhost:8080/"
        },
        "id": "bAPHqdxCAzJ4",
        "outputId": "221189a7-431f-47dc-98b1-7e40780ad4a8"
      },
      "source": [
        "max(results['accuracy'])"
      ],
      "execution_count": 10,
      "outputs": [
        {
          "output_type": "execute_result",
          "data": {
            "text/plain": [
              "0.6358015941888981"
            ]
          },
          "metadata": {},
          "execution_count": 10
        }
      ]
    },
    {
      "cell_type": "code",
      "metadata": {
        "colab": {
          "base_uri": "https://localhost:8080/",
          "height": 298
        },
        "id": "eSpa9RA040Jn",
        "outputId": "4852d1d6-3fab-45f4-b452-eea842c21cbe"
      },
      "source": [
        "results.accuracy.plot(title=\"Accuracy\")"
      ],
      "execution_count": 11,
      "outputs": [
        {
          "output_type": "execute_result",
          "data": {
            "text/plain": [
              "<matplotlib.axes._subplots.AxesSubplot at 0x7fa2f31d77d0>"
            ]
          },
          "metadata": {},
          "execution_count": 11
        },
        {
          "output_type": "display_data",
          "data": {
            "image/png": "[encoded data removed]",
            "text/plain": [
              "<Figure size 432x288 with 1 Axes>"
            ]
          },
          "metadata": {
            "needs_background": "light"
          }
        }
      ]
    },
    {
      "cell_type": "code",
      "metadata": {
        "colab": {
          "base_uri": "https://localhost:8080/"
        },
        "id": "dAVUq_cl45Zj",
        "outputId": "ffb6bdd2-b2cf-4ffb-c84d-61d693db5429"
      },
      "source": [
        "Z1 = np.dot(X_test, W1)\n",
        "A1 = sigmoid(Z1)\n",
        "\n",
        "Z2 = np.dot(A1, W2)\n",
        "A2 = relu(Z2)\n",
        "\n",
        "acc = accuracy(A2, y_test)\n",
        "print(\"Accuracy: {}\".format(acc))"
      ],
      "execution_count": 12,
      "outputs": [
        {
          "output_type": "stream",
          "name": "stdout",
          "text": [
            "Accuracy: 0.6107508553595719\n"
          ]
        }
      ]
    },
    {
      "cell_type": "code",
      "metadata": {
        "colab": {
          "base_uri": "https://localhost:8080/"
        },
        "id": "YbcV1y8o5lgk",
        "outputId": "c85f9280-98dd-44de-b15f-e4049ea41f7b"
      },
      "source": [
        "Z1 = np.dot(X_train, W1)\n",
        "A1 = sigmoid(Z1)\n",
        "\n",
        "# on output layer\n",
        "Z2 = np.dot(A1, W2)\n",
        "A2 = relu(Z2)\n",
        "\n",
        "# Calculating error\n",
        "mse = mean_squared_error(A2, y_train)\n",
        "print(\"MSE: {}\".format(mse))"
      ],
      "execution_count": 13,
      "outputs": [
        {
          "output_type": "stream",
          "name": "stdout",
          "text": [
            "MSE: 2858.4015537116506\n"
          ]
        }
      ]
    },
    {
      "cell_type": "code",
      "metadata": {
        "id": "L481N5Fk-rV9"
      },
      "source": [
        ""
      ],
      "execution_count": null,
      "outputs": []
    },
    {
      "cell_type": "markdown",
      "metadata": {
        "id": "MgDVlQ4yX1nC"
      },
      "source": [
        "# change in learning rate"
      ]
    },
    {
      "cell_type": "code",
      "metadata": {
        "id": "DT7iTc1LYzb_"
      },
      "source": [
        "def accuracy_lr(learning_rate,iterations,N,input_size,hidden_size,output_size):\n",
        " \n",
        "\n",
        "  results = pd.DataFrame(columns=[\"mse\", \"accuracy\"])\n",
        "  np.random.seed(10)\n",
        "  # initializing weight for the hidden layer\n",
        "  W1 = np.random.normal(scale=0.5, size=(input_size, hidden_size))\n",
        "  # initializing weight for the output layer\n",
        "  W2 = np.random.normal(scale=0.5, size=(hidden_size , output_size)) \n",
        "  for itr in range(iterations):    \n",
        "    \n",
        "    # feedforward propagation\n",
        "    # on hidden layer\n",
        "    Z1 = np.dot(X_train, W1)\n",
        "    A1 = sigmoid(Z1)\n",
        "\n",
        "    # on output layer\n",
        "    Z2 = np.dot(A1, W2)\n",
        "    A2 = relu(Z2)\n",
        "    \n",
        "    \n",
        "    # Calculating error\n",
        "    mse = mean_squared_error(A2, y_train)\n",
        "    acc = accuracy(A2, y_train)\n",
        "    results=results.append({\"mse\":mse, \"accuracy\":acc},ignore_index=True )\n",
        "    \n",
        "    # backpropagation\n",
        "    E1 = A2 - y_train\n",
        "    dW1 = E1 * A2 * (1 - A2)\n",
        "\n",
        "    E2 = np.dot(dW1, W2.T)\n",
        "    dW2 = E2 * A1 * (1 - A1)\n",
        "\n",
        "    \n",
        "    # weight updates\n",
        "    W2_update = np.dot(A1.T, dW1) / N\n",
        "    W1_update = np.dot(X_train.T, dW2) / N\n",
        "\n",
        "    W2 = W2 - learning_rate * W2_update\n",
        "    W1 = W1 - learning_rate * W1_update\n",
        "  # feedforward\n",
        "  Z1 = np.dot(X_test, W1)\n",
        "  A1 = sigmoid(Z1)\n",
        "\n",
        "  Z2 = np.dot(A1, W2)\n",
        "  A2 = relu(Z2)\n",
        "\n",
        "  acc = accuracy(A2, y_test)\n",
        "  return acc"
      ],
      "execution_count": 14,
      "outputs": []
    },
    {
      "cell_type": "code",
      "metadata": {
        "id": "Gfezv77gX8Wb"
      },
      "source": [
        "lr = [0.009, 0.03,0.07,0.1,0.5,0.8,1]\n",
        "lst = []\n",
        "for i in lr:\n",
        "  lst.append(accuracy_lr(i,5000,100,2,2,1))"
      ],
      "execution_count": 15,
      "outputs": []
    },
    {
      "cell_type": "code",
      "metadata": {
        "colab": {
          "base_uri": "https://localhost:8080/",
          "height": 295
        },
        "id": "TCit017WbxY9",
        "outputId": "5fa32b07-46c0-4674-a00f-9d53948e7e94"
      },
      "source": [
        "import matplotlib.pyplot as plt\n",
        "\n",
        "# create an index for each tick position\n",
        "xi = list(range(len(lr)))\n",
        "\n",
        "# plot the index for the x-values\n",
        "plt.plot(xi, lst, marker='o', linestyle='--', color='r', label='Accuracy') \n",
        "plt.xlabel('x')\n",
        "plt.ylabel('y') \n",
        "plt.xticks(xi, lr)\n",
        "plt.title('Accuracy')\n",
        "plt.legend() \n",
        "plt.show()"
      ],
      "execution_count": 16,
      "outputs": [
        {
          "output_type": "display_data",
          "data": {
            "image/png": "[encoded data removed]",
            "text/plain": [
              "<Figure size 432x288 with 1 Axes>"
            ]
          },
          "metadata": {
            "needs_background": "light"
          }
        }
      ]
    },
    {
      "cell_type": "code",
      "metadata": {
        "id": "c_Xu-G4NcPny"
      },
      "source": [
        ""
      ],
      "execution_count": null,
      "outputs": []
    },
    {
      "cell_type": "markdown",
      "metadata": {
        "id": "FQXek0kqfFOB"
      },
      "source": [
        "# change neurons of hidden layer from 1 to 10 "
      ]
    },
    {
      "cell_type": "code",
      "metadata": {
        "colab": {
          "base_uri": "https://localhost:8080/"
        },
        "id": "VFx4W4gOfXZQ",
        "outputId": "177f98e5-b196-46f0-ff4c-296dde939cd5"
      },
      "source": [
        "hln = [3,5,8,9,10]\n",
        "lst_n = []\n",
        "for j in hln:\n",
        "  lst_n.append(accuracy_lr(0.03,5000,100,2,j,1))"
      ],
      "execution_count": 19,
      "outputs": [
        {
          "output_type": "stream",
          "name": "stderr",
          "text": [
            "/usr/local/lib/python3.7/dist-packages/ipykernel_launcher.py:2: RuntimeWarning: overflow encountered in exp\n",
            "  \n",
            "/usr/local/lib/python3.7/dist-packages/ipykernel_launcher.py:5: RuntimeWarning: overflow encountered in square\n",
            "  \"\"\"\n",
            "/usr/local/lib/python3.7/dist-packages/ipykernel_launcher.py:29: RuntimeWarning: overflow encountered in multiply\n",
            "/usr/local/lib/python3.7/dist-packages/ipykernel_launcher.py:32: RuntimeWarning: invalid value encountered in multiply\n"
          ]
        }
      ]
    },
    {
      "cell_type": "code",
      "metadata": {
        "colab": {
          "base_uri": "https://localhost:8080/",
          "height": 295
        },
        "id": "o-h6sUXvf034",
        "outputId": "f3c8224e-6692-449a-b97a-6dfd7e239ff0"
      },
      "source": [
        "import matplotlib.pyplot as plt\n",
        "\n",
        "# create an index for each tick position\n",
        "xi = list(range(len(hln)))\n",
        "\n",
        "# plot the index for the x-values\n",
        "plt.plot(xi, lst_n, marker='o', linestyle='--', color='r', label='Accuracy') \n",
        "plt.xlabel('x')\n",
        "plt.ylabel('y') \n",
        "plt.xticks(xi, hln)\n",
        "plt.title('Accuracy')\n",
        "plt.legend() \n",
        "plt.show()"
      ],
      "execution_count": 20,
      "outputs": [
        {
          "output_type": "display_data",
          "data": {
            "image/png": "[encoded data removed]",
            "text/plain": [
              "<Figure size 432x288 with 1 Axes>"
            ]
          },
          "metadata": {
            "needs_background": "light"
          }
        }
      ]
    },
    {
      "cell_type": "code",
      "metadata": {
        "id": "BHnYv6ztgOa5"
      },
      "source": [
        ""
      ],
      "execution_count": null,
      "outputs": []
    },
    {
      "cell_type": "markdown",
      "metadata": {
        "id": "hYhbugF2hMWH"
      },
      "source": [
        "# two different activation functions other than sigmoid "
      ]
    },
    {
      "cell_type": "code",
      "metadata": {
        "id": "vzURYwhVhXwC"
      },
      "source": [
        "def accuracy_act(learning_rate,iterations,N,input_size,hidden_size,output_size):\n",
        " \n",
        "\n",
        "  results = pd.DataFrame(columns=[\"mse\", \"accuracy\"])\n",
        "  np.random.seed(10)\n",
        "  # initializing weight for the hidden layer\n",
        "  W1 = np.random.normal(scale=0.5, size=(input_size, hidden_size))\n",
        "  # initializing weight for the output layer\n",
        "  W2 = np.random.normal(scale=0.5, size=(hidden_size , output_size)) \n",
        "  for itr in range(iterations):    \n",
        "    \n",
        "    # feedforward propagation\n",
        "    # on hidden layer\n",
        "    Z1 = np.dot(X_train, W1)\n",
        "    A1 = tanh(Z1)\n",
        "\n",
        "    # on output layer\n",
        "    Z2 = np.dot(A1, W2)\n",
        "    A2 = relu(Z2)\n",
        "    \n",
        "    \n",
        "    # Calculating error\n",
        "    mse = mean_squared_error(A2, y_train)\n",
        "    acc = accuracy(A2, y_train)\n",
        "    results=results.append({\"mse\":mse, \"accuracy\":acc},ignore_index=True )\n",
        "    \n",
        "    # backpropagation\n",
        "    E1 = A2 - y_train\n",
        "    dW1 = E1 * A2 * (1 - A2)\n",
        "\n",
        "    E2 = np.dot(dW1, W2.T)\n",
        "    dW2 = E2 * A1 * (1 - A1)\n",
        "\n",
        "    \n",
        "    # weight updates\n",
        "    W2_update = np.dot(A1.T, dW1) / N\n",
        "    W1_update = np.dot(X_train.T, dW2) / N\n",
        "\n",
        "    W2 = W2 - learning_rate * W2_update\n",
        "    W1 = W1 - learning_rate * W1_update\n",
        "  # feedforward\n",
        "  Z1 = np.dot(X_test, W1)\n",
        "  A1 = tanh(Z1)\n",
        "\n",
        "  Z2 = np.dot(A1, W2)\n",
        "  A2 = relu(Z2)\n",
        "\n",
        "  acc = accuracy(A2, y_test)\n",
        "  return acc"
      ],
      "execution_count": 21,
      "outputs": []
    },
    {
      "cell_type": "code",
      "metadata": {
        "colab": {
          "base_uri": "https://localhost:8080/"
        },
        "id": "K-BFXexpiIqb",
        "outputId": "11e2d82e-cd7a-4b88-9112-c9402dd7875e"
      },
      "source": [
        "accuracy_act(0.03,5000,100,2,2,1)"
      ],
      "execution_count": 22,
      "outputs": [
        {
          "output_type": "execute_result",
          "data": {
            "text/plain": [
              "0.6054151883182828"
            ]
          },
          "metadata": {},
          "execution_count": 22
        }
      ]
    },
    {
      "cell_type": "code",
      "metadata": {
        "id": "3Xt-LEkXiWQK"
      },
      "source": [
        ""
      ],
      "execution_count": null,
      "outputs": []
    }
  ]
}