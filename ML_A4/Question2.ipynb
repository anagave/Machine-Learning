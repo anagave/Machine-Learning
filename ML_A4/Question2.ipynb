{
  "nbformat": 4,
  "nbformat_minor": 0,
  "metadata": {
    "colab": {
      "name": "Question2.ipynb",
      "provenance": []
    },
    "kernelspec": {
      "name": "python3",
      "display_name": "Python 3"
    },
    "language_info": {
      "name": "python"
    }
  },
  "cells": [
    {
      "cell_type": "code",
      "metadata": {
        "id": "VE42Qma6TdwZ"
      },
      "source": [
        "import pandas as pd\n",
        "from sklearn.model_selection import train_test_split # Import train_test_split function\n",
        "from sklearn import metrics #Import scikit-learn metrics module for accuracy calculation\n",
        "from sklearn.metrics import plot_confusion_matrix\n",
        "from sklearn.metrics import classification_report, confusion_matrix"
      ],
      "execution_count": 1,
      "outputs": []
    },
    {
      "cell_type": "code",
      "metadata": {
        "id": "T3ssR_-BTwWt"
      },
      "source": [
        "col_names = ['Local Price', 'Bathrooms', 'Land Area', 'Living area','Garages','Rooms','Bedrooms','Age','Construction type']"
      ],
      "execution_count": 2,
      "outputs": []
    },
    {
      "cell_type": "code",
      "metadata": {
        "colab": {
          "base_uri": "https://localhost:8080/",
          "height": 204
        },
        "id": "OJ7IxJIVVYZ8",
        "outputId": "16df68a3-3911-4dfc-9e21-5c1ecbe48a7a"
      },
      "source": [
        "# path of your data\n",
        "data_path=\"Assignment4_Data.csv\"\n",
        "df = pd.read_csv(data_path, header=None, names=col_names)\n",
        "df.head()"
      ],
      "execution_count": 5,
      "outputs": [
        {
          "output_type": "execute_result",
          "data": {
            "text/html": [
              "<div>\n",
              "<style scoped>\n",
              "    .dataframe tbody tr th:only-of-type {\n",
              "        vertical-align: middle;\n",
              "    }\n",
              "\n",
              "    .dataframe tbody tr th {\n",
              "        vertical-align: top;\n",
              "    }\n",
              "\n",
              "    .dataframe thead th {\n",
              "        text-align: right;\n",
              "    }\n",
              "</style>\n",
              "<table border=\"1\" class=\"dataframe\">\n",
              "  <thead>\n",
              "    <tr style=\"text-align: right;\">\n",
              "      <th></th>\n",
              "      <th>Local Price</th>\n",
              "      <th>Bathrooms</th>\n",
              "      <th>Land Area</th>\n",
              "      <th>Living area</th>\n",
              "      <th>Garages</th>\n",
              "      <th>Rooms</th>\n",
              "      <th>Bedrooms</th>\n",
              "      <th>Age</th>\n",
              "      <th>Construction type</th>\n",
              "    </tr>\n",
              "  </thead>\n",
              "  <tbody>\n",
              "    <tr>\n",
              "      <th>House ID</th>\n",
              "      <td>Local Price</td>\n",
              "      <td>Bathrooms</td>\n",
              "      <td>Land Area</td>\n",
              "      <td>Living area</td>\n",
              "      <td># Garages</td>\n",
              "      <td># Rooms</td>\n",
              "      <td># Bedrooms</td>\n",
              "      <td>Age of home</td>\n",
              "      <td>Construction type</td>\n",
              "    </tr>\n",
              "    <tr>\n",
              "      <th>1</th>\n",
              "      <td>4.9176</td>\n",
              "      <td>1</td>\n",
              "      <td>3.472</td>\n",
              "      <td>0.998</td>\n",
              "      <td>1</td>\n",
              "      <td>7</td>\n",
              "      <td>4</td>\n",
              "      <td>42</td>\n",
              "      <td>Apartment</td>\n",
              "    </tr>\n",
              "    <tr>\n",
              "      <th>2</th>\n",
              "      <td>5.0208</td>\n",
              "      <td>1</td>\n",
              "      <td>3.531</td>\n",
              "      <td>1.5</td>\n",
              "      <td>2</td>\n",
              "      <td>7</td>\n",
              "      <td>4</td>\n",
              "      <td>62</td>\n",
              "      <td>House</td>\n",
              "    </tr>\n",
              "    <tr>\n",
              "      <th>3</th>\n",
              "      <td>4.5429</td>\n",
              "      <td>1</td>\n",
              "      <td>2.275</td>\n",
              "      <td>1.175</td>\n",
              "      <td>1</td>\n",
              "      <td>6</td>\n",
              "      <td>3</td>\n",
              "      <td>40</td>\n",
              "      <td>Condo</td>\n",
              "    </tr>\n",
              "    <tr>\n",
              "      <th>4</th>\n",
              "      <td>4.5573</td>\n",
              "      <td>1</td>\n",
              "      <td>4.05</td>\n",
              "      <td>1.232</td>\n",
              "      <td>1</td>\n",
              "      <td>6</td>\n",
              "      <td>3</td>\n",
              "      <td>54</td>\n",
              "      <td>Apartment</td>\n",
              "    </tr>\n",
              "  </tbody>\n",
              "</table>\n",
              "</div>"
            ],
            "text/plain": [
              "          Local Price  Bathrooms  ...          Age  Construction type\n",
              "House ID  Local Price  Bathrooms  ...  Age of home  Construction type\n",
              "1              4.9176          1  ...           42          Apartment\n",
              "2              5.0208          1  ...           62              House\n",
              "3              4.5429          1  ...           40              Condo\n",
              "4              4.5573          1  ...           54          Apartment\n",
              "\n",
              "[5 rows x 9 columns]"
            ]
          },
          "metadata": {},
          "execution_count": 5
        }
      ]
    },
    {
      "cell_type": "code",
      "metadata": {
        "id": "r58_Cyq7aE0t"
      },
      "source": [
        "df = df.iloc[1: , :]"
      ],
      "execution_count": 6,
      "outputs": []
    },
    {
      "cell_type": "code",
      "metadata": {
        "id": "hMAD5bh8WN7F"
      },
      "source": [
        "X = df.drop('Construction type', axis=1)\n",
        "y = df['Construction type']"
      ],
      "execution_count": 7,
      "outputs": []
    },
    {
      "cell_type": "code",
      "metadata": {
        "id": "gEMfTu0yXbjP"
      },
      "source": [
        "X_train, X_test, y_train, y_test = train_test_split(X, y, test_size=0.20)"
      ],
      "execution_count": 8,
      "outputs": []
    },
    {
      "cell_type": "markdown",
      "metadata": {
        "id": "M5zvpdwk1bFt"
      },
      "source": [
        "1. Use the default parameters.  \n",
        "a. What is the accuracy on the training set?  \n",
        "b. What is the accuracy on the test set? "
      ]
    },
    {
      "cell_type": "code",
      "metadata": {
        "colab": {
          "base_uri": "https://localhost:8080/"
        },
        "id": "opbFLmnFXjZX",
        "outputId": "1482d46b-099e-43ba-d30d-0c8c5f3e1e74"
      },
      "source": [
        "from sklearn.tree import DecisionTreeClassifier # Import Decision Tree Classifier\n",
        "classifier = DecisionTreeClassifier()\n",
        "classifier.fit(X_train, y_train)\n",
        "y_pred = classifier.predict(X_test)\n",
        "print(classification_report(y_test, y_pred))"
      ],
      "execution_count": 9,
      "outputs": [
        {
          "output_type": "stream",
          "name": "stdout",
          "text": [
            "              precision    recall  f1-score   support\n",
            "\n",
            "   Apartment       0.50      0.50      0.50         2\n",
            "       Condo       0.00      0.00      0.00         2\n",
            "       House       0.00      0.00      0.00         0\n",
            "\n",
            "    accuracy                           0.25         4\n",
            "   macro avg       0.17      0.17      0.17         4\n",
            "weighted avg       0.25      0.25      0.25         4\n",
            "\n"
          ]
        },
        {
          "output_type": "stream",
          "name": "stderr",
          "text": [
            "/usr/local/lib/python3.7/dist-packages/sklearn/metrics/_classification.py:1272: UndefinedMetricWarning: Recall and F-score are ill-defined and being set to 0.0 in labels with no true samples. Use `zero_division` parameter to control this behavior.\n",
            "  _warn_prf(average, modifier, msg_start, len(result))\n"
          ]
        }
      ]
    },
    {
      "cell_type": "code",
      "metadata": {
        "colab": {
          "base_uri": "https://localhost:8080/"
        },
        "id": "btLqnsAj1RfH",
        "outputId": "0d2b2b3a-d8b3-4f5a-e995-beadeaca2c54"
      },
      "source": [
        "classifier = DecisionTreeClassifier()\n",
        "classifier.fit(X_train, y_train)\n",
        "y_pred = classifier.predict(X_train)\n",
        "print(classification_report(y_train, y_pred))"
      ],
      "execution_count": 10,
      "outputs": [
        {
          "output_type": "stream",
          "name": "stdout",
          "text": [
            "              precision    recall  f1-score   support\n",
            "\n",
            "   Apartment       1.00      1.00      1.00         5\n",
            "       Condo       1.00      1.00      1.00         4\n",
            "       House       1.00      1.00      1.00         7\n",
            "\n",
            "    accuracy                           1.00        16\n",
            "   macro avg       1.00      1.00      1.00        16\n",
            "weighted avg       1.00      1.00      1.00        16\n",
            "\n"
          ]
        }
      ]
    },
    {
      "cell_type": "markdown",
      "metadata": {
        "id": "5thacoUT1kXH"
      },
      "source": [
        "2.What is the effect of restricting the maximum depth of the tree? Try different depths and \n",
        "find the best value.\n"
      ]
    },
    {
      "cell_type": "code",
      "metadata": {
        "colab": {
          "base_uri": "https://localhost:8080/"
        },
        "id": "-g-7_ZFZ1qRC",
        "outputId": "8675ca36-090b-4e79-9d91-c7b10d912fac"
      },
      "source": [
        "classifier = DecisionTreeClassifier(max_depth=32)\n",
        "classifier.fit(X_train, y_train)\n",
        "y_pred = classifier.predict(X_test)\n",
        "print(\"Accuracy:\",metrics.accuracy_score(y_test, y_pred))"
      ],
      "execution_count": 47,
      "outputs": [
        {
          "output_type": "stream",
          "name": "stdout",
          "text": [
            "Accuracy: 0.25\n"
          ]
        }
      ]
    },
    {
      "cell_type": "code",
      "metadata": {
        "id": "FUnWbacj3uPU"
      },
      "source": [
        "scores={}\n",
        "score_list=[]\n",
        "krange=range(1,32) #Max Dept can be from 1 to 32\n",
        "for k in krange: \n",
        "  classifier = DecisionTreeClassifier(max_depth=k)\n",
        "  classifier.fit(X_train, y_train)\n",
        "  y_pred = classifier.predict(X_test)\n",
        "  score_list.append(metrics.accuracy_score(y_test, y_pred))"
      ],
      "execution_count": 48,
      "outputs": []
    },
    {
      "cell_type": "code",
      "metadata": {
        "colab": {
          "base_uri": "https://localhost:8080/",
          "height": 296
        },
        "id": "xljj-AYl3GRF",
        "outputId": "eb546b25-5e5b-49f9-df37-a58843330f01"
      },
      "source": [
        "%matplotlib inline\n",
        "import matplotlib.pyplot as plt\n",
        "plt.plot(krange,score_list)\n",
        "plt.xlabel(\"Accuracy\")\n",
        "plt.ylabel(\"Testing Accuracy\")"
      ],
      "execution_count": 51,
      "outputs": [
        {
          "output_type": "execute_result",
          "data": {
            "text/plain": [
              "Text(0, 0.5, 'Testing Accuracy')"
            ]
          },
          "metadata": {},
          "execution_count": 51
        },
        {
          "output_type": "display_data",
          "data": {
            "image/png": "[encoded data removed]",
            "text/plain": [
              "<Figure size 432x288 with 1 Axes>"
            ]
          },
          "metadata": {
            "needs_background": "light"
          }
        }
      ]
    },
    {
      "cell_type": "markdown",
      "metadata": {
        "id": "CnNHOWuu4O6J"
      },
      "source": [
        "3.Why does restricting the depth have such a strong effect on the classifier performance? "
      ]
    },
    {
      "cell_type": "markdown",
      "metadata": {
        "id": "VF24YKqm6Grn"
      },
      "source": [
        "Larger the depth of the tree more are the chances of variance(overfitting).\n",
        "Whereas smaller the depth of the tree more are the chances of bias tree(underfitting).If height or depth of the tree is exactly one then such a tree is called as a decision stump. "
      ]
    }
  ]
}