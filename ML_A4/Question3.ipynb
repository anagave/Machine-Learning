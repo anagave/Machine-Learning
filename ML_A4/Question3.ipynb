{
  "nbformat": 4,
  "nbformat_minor": 0,
  "metadata": {
    "colab": {
      "name": "Question3.ipynb",
      "provenance": []
    },
    "kernelspec": {
      "name": "python3",
      "display_name": "Python 3"
    },
    "language_info": {
      "name": "python"
    }
  },
  "cells": [
    {
      "cell_type": "code",
      "metadata": {
        "id": "ioXMUjFHMkYN"
      },
      "source": [
        "import pandas as pd\n",
        "from sklearn.model_selection import train_test_split\n",
        "from sklearn.preprocessing import StandardScaler\n",
        "from sklearn.metrics import accuracy_score"
      ],
      "execution_count": null,
      "outputs": []
    },
    {
      "cell_type": "code",
      "metadata": {
        "id": "JjDSYjboMnUj"
      },
      "source": [
        "def euclidean_distance(a, b):\n",
        "    # Store the number of dimensions\n",
        "    dim = len(a)\n",
        "\n",
        "    # Set initial distance to 0\n",
        "    distance = 0\n",
        "\n",
        "    # Calculate minkowski distance using parameter p\n",
        "    for d in range(dim):\n",
        "        distance += abs(float(a[d]) - float(b[d])) ** 2\n",
        "\n",
        "    distance = distance ** (1 / 2)\n",
        "\n",
        "    return distance"
      ],
      "execution_count": null,
      "outputs": []
    },
    {
      "cell_type": "code",
      "metadata": {
        "id": "Bg0mz52RMr-8"
      },
      "source": [
        "col_names = ['Local Price', 'Bathrooms', 'Land Area', 'Living area','Garages','Rooms','Bedrooms','Age','Construction type']"
      ],
      "execution_count": null,
      "outputs": []
    },
    {
      "cell_type": "code",
      "metadata": {
        "id": "vCecspjuMuxt"
      },
      "source": [
        "df = pd.read_csv(\"Assignment4_Data.csv\", header=None, names=col_names)\n",
        "df.head()\n",
        "df = df.iloc[1: , :]\n",
        "\n",
        "\n",
        "X = df.drop('Construction type', axis=1)\n",
        "y = df['Construction type']\n",
        "\n",
        "X_train, X_test, y_train, y_test = train_test_split(X, y, test_size=0.20)\n",
        "scaler = StandardScaler()\n",
        "X_train = scaler.fit_transform(X_train)\n",
        "X_test = scaler.transform(X_test)\n"
      ],
      "execution_count": null,
      "outputs": []
    },
    {
      "cell_type": "code",
      "metadata": {
        "id": "ccRuLChUM9Sd"
      },
      "source": [
        "\n",
        "def knn_predict(X_train, X_test, y_train, y_test, k):\n",
        "    # Counter to help with label voting\n",
        "    from collections import Counter\n",
        "\n",
        "    # Make predictions on the test data\n",
        "    # Need output of 1 prediction per test data point\n",
        "    y_hat_test = []\n",
        "\n",
        "    for test_point in X_test:\n",
        "        distances = []\n",
        "\n",
        "        for train_point in X_train:\n",
        "            distance = euclidean_distance(test_point, train_point)\n",
        "            distances.append(distance)\n",
        "\n",
        "        # Store distances in a dataframe\n",
        "        df_dists = pd.DataFrame(data=distances, columns=['dist'],\n",
        "                                index=y_train.index)\n",
        "\n",
        "        # Sort distances, and only consider the k closest points\n",
        "        df_nn = df_dists.sort_values(by=['dist'], axis=0)[:k]\n",
        "\n",
        "        # Create counter object to track the labels of k closest neighbors\n",
        "        counter = Counter(y_train[df_nn.index])\n",
        "\n",
        "        # Get most common label of all the nearest neighbors\n",
        "        prediction = counter.most_common()[0][0]\n",
        "\n",
        "        # Append prediction to output list\n",
        "        y_hat_test.append(prediction)\n",
        "\n",
        "    return y_hat_test"
      ],
      "execution_count": null,
      "outputs": []
    },
    {
      "cell_type": "code",
      "metadata": {
        "colab": {
          "base_uri": "https://localhost:8080/"
        },
        "id": "xQkGI8xrND42",
        "outputId": "68633d74-aae5-40c8-d4a5-7fdbebaa8d68"
      },
      "source": [
        "scores={}\n",
        "score_list=[]\n",
        "krange=int(input(\"Enter VALUE of k\"))\n",
        "krange=range(1,krange)\n",
        "for k in krange: \n",
        "  y_hat_test = knn_predict(X_train, X_test, y_train, y_test, k=k)\n",
        "  scores[k]=accuracy_score(y_test, y_hat_test)\n",
        "  score_list.append(accuracy_score(y_test, y_hat_test))"
      ],
      "execution_count": null,
      "outputs": [
        {
          "name": "stdout",
          "output_type": "stream",
          "text": [
            "Enter VALUE of k5\n"
          ]
        }
      ]
    },
    {
      "cell_type": "code",
      "metadata": {
        "colab": {
          "base_uri": "https://localhost:8080/",
          "height": 297
        },
        "id": "8jiPZFDHO77s",
        "outputId": "79fe4ead-212f-4b86-d61c-2e609126d688"
      },
      "source": [
        "%matplotlib inline\n",
        "import matplotlib.pyplot as plt\n",
        "plt.plot(krange,score_list)\n",
        "plt.xlabel(\"value of k for knn\")\n",
        "plt.ylabel(\"Testing Accuracy\")\n"
      ],
      "execution_count": null,
      "outputs": [
        {
          "output_type": "execute_result",
          "data": {
            "text/plain": [
              "Text(0, 0.5, 'Testing Accuracy')"
            ]
          },
          "metadata": {},
          "execution_count": 26
        },
        {
          "output_type": "display_data",
          "data": {
            "image/png": "[encoded data removed]",
            "text/plain": [
              "<Figure size 432x288 with 1 Axes>"
            ]
          },
          "metadata": {
            "needs_background": "light"
          }
        }
      ]
    }
  ]
}